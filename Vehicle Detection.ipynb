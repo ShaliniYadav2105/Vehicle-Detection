{
 "cells": [
  {
   "cell_type": "code",
   "execution_count": 14,
   "metadata": {},
   "outputs": [
    {
     "name": "stdout",
     "output_type": "stream",
     "text": [
      "No. of vehicle is detected : 1\n",
      "No. of vehicle is detected : 2\n",
      "No. of vehicle is detected : 3\n",
      "No. of vehicle is detected : 4\n",
      "No. of vehicle is detected : 5\n",
      "No. of vehicle is detected : 6\n",
      "No. of vehicle is detected : 7\n",
      "No. of vehicle is detected : 8\n",
      "No. of vehicle is detected : 9\n",
      "No. of vehicle is detected : 10\n",
      "No. of vehicle is detected : 11\n",
      "No. of vehicle is detected : 12\n",
      "No. of vehicle is detected : 13\n",
      "No. of vehicle is detected : 14\n",
      "pressed quit\n"
     ]
    }
   ],
   "source": [
    "import cv2\n",
    "import numpy as np\n",
    "from time import sleep\n",
    "\n",
    "width_min=80 \n",
    "height_min=80 \n",
    "\n",
    "offset=6\n",
    " \n",
    "\n",
    "delay= 60 \n",
    "\n",
    "detect = []\n",
    "vehicle_count = 0\n",
    "\n",
    "def page_center(x, y, w, h):\n",
    "    x1 = int(w / 2)\n",
    "    y1 = int(h / 2)\n",
    "    cx = x + x1\n",
    "    cy = y + y1\n",
    "    return cx,cy\n",
    "\n",
    "cap = cv2.VideoCapture('night_video.mp4')\n",
    "frame_width = int(cap.get(3))\n",
    "frame_height = int(cap.get(4))\n",
    "   \n",
    "size = (frame_width, frame_height)\n",
    "   \n",
    "result = cv2.VideoWriter('output_night.avi', cv2.VideoWriter_fourcc(*'MJPG'),10, size)\n",
    "bg_subtractor = cv2.createBackgroundSubtractorMOG2()\n",
    "\n",
    "while True:\n",
    "    ret , frame1 = cap.read()\n",
    "    height, width = frame1.shape[0:2]\n",
    "    time = float(1/delay)\n",
    "    sleep(time) \n",
    "    grey = cv2.cvtColor(frame1,cv2.COLOR_BGR2GRAY)\n",
    "    blur = cv2.GaussianBlur(grey,(3,3),5)\n",
    "    img_sub = bg_subtractor.apply(blur)\n",
    "    dilated_img = cv2.dilate(img_sub,np.ones((5,5)))\n",
    "    kernel = cv2.getStructuringElement(cv2.MORPH_ELLIPSE, (5, 5))\n",
    "    dilated = cv2.morphologyEx (dilated_img, cv2. MORPH_CLOSE , kernel)\n",
    "    dilated = cv2.morphologyEx (dilated, cv2. MORPH_CLOSE , kernel)\n",
    "    contours,h=cv2.findContours(dilated,cv2.RETR_TREE,cv2.CHAIN_APPROX_SIMPLE)\n",
    "    \n",
    "    cv2.line(frame1, (0, height-100), (width, height-100), (255,127,0), 3) \n",
    "    for(i,c) in enumerate(contours):\n",
    "        (x,y,w,h) = cv2.boundingRect(c)\n",
    "        line_cord = height-100\n",
    "        validate_contour = (w >= width_min) and (h >= height_min)\n",
    "        if not validate_contour:\n",
    "            continue\n",
    "\n",
    "        cv2.rectangle(frame1,(x,y),(x+w,y+h),(0,255,0),2)        \n",
    "        center = page_center(x, y, w, h)\n",
    "        detect.append(center)\n",
    "        cv2.circle(frame1, center, 4, (0, 0,255), -1)\n",
    "\n",
    "        for (x,y) in detect:\n",
    "            if y<(line_cord+offset) and y>(line_cord-offset):\n",
    "                vehicle_count+=1\n",
    "                cv2.line(frame1, (0, height-100), (width, height-100), (0,127,255), 3)  \n",
    "                detect.remove((x,y))\n",
    "                print(\"No. of vehicle is detected : \"+str(vehicle_count))        \n",
    "       \n",
    "    cv2.putText(frame1, \"VEHICLE COUNT : \"+str(vehicle_count), (0, 50), cv2.FONT_HERSHEY_SIMPLEX, 2, (0, 0, 255),2)\n",
    "    result.write(frame1)\n",
    "    cv2.imshow(\"Video Original\" , frame1)\n",
    "    cv2.imshow(\"Detectar\",dilated)\n",
    "\n",
    "\n",
    "\n",
    "    if cv2.waitKey(1) == ord('a'):\n",
    "        print (\"pressed quit\")\n",
    "        break\n",
    "   \n",
    "cv2.destroyAllWindows()\n",
    "cap.release()"
   ]
  },
  {
   "cell_type": "code",
   "execution_count": null,
   "metadata": {},
   "outputs": [],
   "source": []
  },
  {
   "cell_type": "code",
   "execution_count": null,
   "metadata": {},
   "outputs": [],
   "source": [
    "\n"
   ]
  },
  {
   "cell_type": "code",
   "execution_count": null,
   "metadata": {},
   "outputs": [],
   "source": []
  },
  {
   "cell_type": "code",
   "execution_count": null,
   "metadata": {},
   "outputs": [],
   "source": []
  }
 ],
 "metadata": {
  "kernelspec": {
   "display_name": "Python 3",
   "language": "python",
   "name": "python3"
  },
  "language_info": {
   "codemirror_mode": {
    "name": "ipython",
    "version": 3
   },
   "file_extension": ".py",
   "mimetype": "text/x-python",
   "name": "python",
   "nbconvert_exporter": "python",
   "pygments_lexer": "ipython3",
   "version": "3.8.5"
  }
 },
 "nbformat": 4,
 "nbformat_minor": 4
}
